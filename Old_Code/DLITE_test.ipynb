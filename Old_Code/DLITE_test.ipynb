{
 "cells": [
  {
   "cell_type": "code",
   "execution_count": 2,
   "metadata": {},
   "outputs": [
    {
     "ename": "ModuleNotFoundError",
     "evalue": "No module named 'source'",
     "output_type": "error",
     "traceback": [
      "\u001b[1;31m---------------------------------------------------------------------------\u001b[0m",
      "\u001b[1;31mModuleNotFoundError\u001b[0m                       Traceback (most recent call last)",
      "Cell \u001b[1;32mIn[2], line 21\u001b[0m\n\u001b[0;32m     17\u001b[0m \u001b[38;5;28;01mimport\u001b[39;00m \u001b[38;5;21;01mos\u001b[39;00m\n\u001b[0;32m     18\u001b[0m \u001b[38;5;28;01mfrom\u001b[39;00m \u001b[38;5;21;01mscipy\u001b[39;00m \u001b[38;5;28;01mimport\u001b[39;00m optimize\n\u001b[1;32m---> 21\u001b[0m \u001b[38;5;28;01mfrom\u001b[39;00m \u001b[38;5;21;01msource\u001b[39;00m \u001b[38;5;28;01mimport\u001b[39;00m segmentation_hand\n\u001b[0;32m     22\u001b[0m \u001b[38;5;28;01mfrom\u001b[39;00m \u001b[38;5;21;01mutils\u001b[39;00m \u001b[38;5;28;01mimport\u001b[39;00m fileio\n\u001b[0;32m     23\u001b[0m \u001b[38;5;28;01mfrom\u001b[39;00m \u001b[38;5;21;01mutils\u001b[39;00m \u001b[38;5;28;01mimport\u001b[39;00m handtrace\n",
      "\u001b[1;31mModuleNotFoundError\u001b[0m: No module named 'source'"
     ]
    }
   ],
   "source": [
    "from glob import glob\n",
    "import pandas as pd\n",
    "import imageio as iio\n",
    "import matplotlib.pyplot as plt\n",
    "import numpy as np\n",
    "import itertools\n",
    "from skan.csr import skeleton_to_csgraph, make_degree_image, pixel_graph, Skeleton\n",
    "from skan import Skeleton, summarize, draw\n",
    "from skan.pre import threshold\n",
    "from skimage import io\n",
    "import skimage.morphology as sk\n",
    "from skimage.segmentation import find_boundaries\n",
    "from skimage.filters import rank\n",
    "from scipy.sparse import csr_matrix\n",
    "from scipy.sparse.csgraph import minimum_spanning_tree\n",
    "import networkx as nx\n",
    "import os\n",
    "from scipy import optimize\n",
    "\n",
    "\n",
    "from source import segmentation_hand\n",
    "from utils import fileio\n",
    "from utils import handtrace\n",
    "from utils import matrices\n",
    "from utils import geometry\n",
    "from utils import mechanics\n",
    "from utils import visualise\n"
   ]
  },
  {
   "cell_type": "code",
   "execution_count": null,
   "metadata": {},
   "outputs": [],
   "source": [
    "#folder='C:\\\\Users\\\\v35431nc\\\\Documents\\\\Lab Stuff\\\\Nawseen Traces'\n",
    "folder='C:\\Users\\v35431nc\\Documents\\Lab_Stuff\\DLITE_Test'\n",
    "files = glob(folder+'\\\\*.tif')\n",
    "#files = glob(folder+'\\\\20230330_GFP_Tubulin_NuMA_MO_1.S+1.L_0p5_biaxial_stretch(2)_max projection_first frame_trace_junctions_inverted.tif')\n",
    "trace_name=files[0].split('\\\\')[-1].split('.t')[0]\n",
    "image0 = iio.v2.imread(files[0])\n",
    "#skeletonise and segment edges\n",
    "im, data, pix_gr, coords=skeletonise(files[0], cp=False)\n",
    "#remove spiderlegs/contractible branches\n",
    "draw.overlay_euclidean_skeleton_2d(im,data,\n",
    "                                   skeleton_color_source='branch-type', skeleton_colormap='Set2');\n",
    "edge_verts, n_coords=extract_edges_verts(data)\n",
    "\n",
    "\n"
   ]
  }
 ],
 "metadata": {
  "kernelspec": {
   "display_name": "dlite",
   "language": "python",
   "name": "python3"
  },
  "language_info": {
   "codemirror_mode": {
    "name": "ipython",
    "version": 3
   },
   "file_extension": ".py",
   "mimetype": "text/x-python",
   "name": "python",
   "nbconvert_exporter": "python",
   "pygments_lexer": "ipython3",
   "version": "3.10.9"
  }
 },
 "nbformat": 4,
 "nbformat_minor": 2
}
