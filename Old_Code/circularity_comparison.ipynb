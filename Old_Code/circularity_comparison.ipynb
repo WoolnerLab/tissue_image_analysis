{
 "cells": [
  {
   "cell_type": "code",
   "execution_count": 1,
   "metadata": {},
   "outputs": [],
   "source": [
    "import matplotlib.pyplot as plt\n",
    "import matplotlib as mpl\n",
    "import pandas as pd\n",
    "import numpy as np\n",
    "import seaborn as sns\n",
    "import os\n",
    "\n",
    "import cv2\n",
    "\n",
    "from glob import glob\n",
    "from matplotlib.patches import  Polygon\n",
    "from matplotlib.collections import PatchCollection\n",
    "from scipy.stats import linregress, ttest_ind\n",
    "from scipy.spatial.distance import cdist\n",
    "\n",
    "\n",
    "from utils import geometry"
   ]
  },
  {
   "cell_type": "code",
   "execution_count": 2,
   "metadata": {},
   "outputs": [],
   "source": [
    "olddata=pd.read_csv('C:\\\\Users\\\\v35431nc\\\\Documents\\\\Lab_Stuff\\\\CellReports Traces/pooled_population_data_control_35pc.csv')\n",
    "olddata=olddata[olddata.Time==0]"
   ]
  },
  {
   "cell_type": "code",
   "execution_count": 33,
   "metadata": {},
   "outputs": [
    {
     "data": {
      "text/html": [
       "<div>\n",
       "<style scoped>\n",
       "    .dataframe tbody tr th:only-of-type {\n",
       "        vertical-align: middle;\n",
       "    }\n",
       "\n",
       "    .dataframe tbody tr th {\n",
       "        vertical-align: top;\n",
       "    }\n",
       "\n",
       "    .dataframe thead th {\n",
       "        text-align: right;\n",
       "    }\n",
       "</style>\n",
       "<table border=\"1\" class=\"dataframe\">\n",
       "  <thead>\n",
       "    <tr style=\"text-align: right;\">\n",
       "      <th></th>\n",
       "      <th>Unnamed: 0</th>\n",
       "      <th>Area</th>\n",
       "      <th>Circularity_j</th>\n",
       "      <th>Circularity_p</th>\n",
       "      <th>Experiment</th>\n",
       "      <th>NumSides</th>\n",
       "      <th>Orientation_j</th>\n",
       "      <th>Orientation_p</th>\n",
       "      <th>Perimeter</th>\n",
       "      <th>Time</th>\n",
       "      <th>pArea</th>\n",
       "      <th>pCircularity_p</th>\n",
       "      <th>pOrientation_p</th>\n",
       "      <th>pPerimeter</th>\n",
       "    </tr>\n",
       "  </thead>\n",
       "  <tbody>\n",
       "    <tr>\n",
       "      <th>923</th>\n",
       "      <td>923</td>\n",
       "      <td>0.757163</td>\n",
       "      <td>0.295737</td>\n",
       "      <td>0.433680</td>\n",
       "      <td>MAX_20151002_control_35pcstretch</td>\n",
       "      <td>6</td>\n",
       "      <td>2.152998</td>\n",
       "      <td>4.463097</td>\n",
       "      <td>125.882251</td>\n",
       "      <td>0</td>\n",
       "      <td>0.735826</td>\n",
       "      <td>0.429346</td>\n",
       "      <td>4.909905</td>\n",
       "      <td>117.179068</td>\n",
       "    </tr>\n",
       "    <tr>\n",
       "      <th>924</th>\n",
       "      <td>924</td>\n",
       "      <td>0.487627</td>\n",
       "      <td>0.718569</td>\n",
       "      <td>0.936522</td>\n",
       "      <td>MAX_20151002_control_35pcstretch</td>\n",
       "      <td>4</td>\n",
       "      <td>151.175924</td>\n",
       "      <td>62.935263</td>\n",
       "      <td>95.840620</td>\n",
       "      <td>0</td>\n",
       "      <td>0.359963</td>\n",
       "      <td>0.836948</td>\n",
       "      <td>129.189813</td>\n",
       "      <td>86.034652</td>\n",
       "    </tr>\n",
       "    <tr>\n",
       "      <th>925</th>\n",
       "      <td>925</td>\n",
       "      <td>1.149815</td>\n",
       "      <td>0.169481</td>\n",
       "      <td>0.308105</td>\n",
       "      <td>MAX_20151002_control_35pcstretch</td>\n",
       "      <td>7</td>\n",
       "      <td>2.144992</td>\n",
       "      <td>2.103681</td>\n",
       "      <td>166.163096</td>\n",
       "      <td>0</td>\n",
       "      <td>1.112130</td>\n",
       "      <td>0.280042</td>\n",
       "      <td>3.129398</td>\n",
       "      <td>149.611404</td>\n",
       "    </tr>\n",
       "    <tr>\n",
       "      <th>926</th>\n",
       "      <td>926</td>\n",
       "      <td>1.063195</td>\n",
       "      <td>0.479265</td>\n",
       "      <td>0.627393</td>\n",
       "      <td>MAX_20151002_control_35pcstretch</td>\n",
       "      <td>6</td>\n",
       "      <td>99.137178</td>\n",
       "      <td>98.145987</td>\n",
       "      <td>147.040678</td>\n",
       "      <td>0</td>\n",
       "      <td>1.059130</td>\n",
       "      <td>0.678030</td>\n",
       "      <td>105.137884</td>\n",
       "      <td>134.240041</td>\n",
       "    </tr>\n",
       "    <tr>\n",
       "      <th>927</th>\n",
       "      <td>927</td>\n",
       "      <td>0.820480</td>\n",
       "      <td>0.223070</td>\n",
       "      <td>0.487690</td>\n",
       "      <td>MAX_20151002_control_35pcstretch</td>\n",
       "      <td>5</td>\n",
       "      <td>145.089835</td>\n",
       "      <td>150.179161</td>\n",
       "      <td>124.225397</td>\n",
       "      <td>0</td>\n",
       "      <td>0.624083</td>\n",
       "      <td>0.357131</td>\n",
       "      <td>147.966491</td>\n",
       "      <td>113.076946</td>\n",
       "    </tr>\n",
       "    <tr>\n",
       "      <th>...</th>\n",
       "      <td>...</td>\n",
       "      <td>...</td>\n",
       "      <td>...</td>\n",
       "      <td>...</td>\n",
       "      <td>...</td>\n",
       "      <td>...</td>\n",
       "      <td>...</td>\n",
       "      <td>...</td>\n",
       "      <td>...</td>\n",
       "      <td>...</td>\n",
       "      <td>...</td>\n",
       "      <td>...</td>\n",
       "      <td>...</td>\n",
       "      <td>...</td>\n",
       "    </tr>\n",
       "    <tr>\n",
       "      <th>5906</th>\n",
       "      <td>5906</td>\n",
       "      <td>1.358636</td>\n",
       "      <td>0.264711</td>\n",
       "      <td>0.389299</td>\n",
       "      <td>27March13_control_35pcstretch</td>\n",
       "      <td>6</td>\n",
       "      <td>9.687870</td>\n",
       "      <td>11.010932</td>\n",
       "      <td>127.740115</td>\n",
       "      <td>0</td>\n",
       "      <td>1.272381</td>\n",
       "      <td>0.348086</td>\n",
       "      <td>11.464973</td>\n",
       "      <td>120.256411</td>\n",
       "    </tr>\n",
       "    <tr>\n",
       "      <th>5907</th>\n",
       "      <td>5907</td>\n",
       "      <td>0.990792</td>\n",
       "      <td>0.538889</td>\n",
       "      <td>0.834848</td>\n",
       "      <td>27March13_control_35pcstretch</td>\n",
       "      <td>5</td>\n",
       "      <td>20.319775</td>\n",
       "      <td>12.535412</td>\n",
       "      <td>105.012193</td>\n",
       "      <td>0</td>\n",
       "      <td>0.867599</td>\n",
       "      <td>0.643296</td>\n",
       "      <td>23.357807</td>\n",
       "      <td>97.250595</td>\n",
       "    </tr>\n",
       "    <tr>\n",
       "      <th>5908</th>\n",
       "      <td>5908</td>\n",
       "      <td>1.195310</td>\n",
       "      <td>0.266206</td>\n",
       "      <td>0.361098</td>\n",
       "      <td>27March13_control_35pcstretch</td>\n",
       "      <td>6</td>\n",
       "      <td>20.209022</td>\n",
       "      <td>15.493922</td>\n",
       "      <td>128.083261</td>\n",
       "      <td>0</td>\n",
       "      <td>1.221602</td>\n",
       "      <td>0.382357</td>\n",
       "      <td>17.302196</td>\n",
       "      <td>118.992562</td>\n",
       "    </tr>\n",
       "    <tr>\n",
       "      <th>5909</th>\n",
       "      <td>5909</td>\n",
       "      <td>1.197478</td>\n",
       "      <td>0.179567</td>\n",
       "      <td>0.240692</td>\n",
       "      <td>27March13_control_35pcstretch</td>\n",
       "      <td>6</td>\n",
       "      <td>20.726451</td>\n",
       "      <td>18.805587</td>\n",
       "      <td>137.885822</td>\n",
       "      <td>0</td>\n",
       "      <td>1.144708</td>\n",
       "      <td>0.268947</td>\n",
       "      <td>20.195284</td>\n",
       "      <td>119.164502</td>\n",
       "    </tr>\n",
       "    <tr>\n",
       "      <th>5910</th>\n",
       "      <td>5910</td>\n",
       "      <td>1.057279</td>\n",
       "      <td>0.358974</td>\n",
       "      <td>0.431879</td>\n",
       "      <td>27March13_control_35pcstretch</td>\n",
       "      <td>6</td>\n",
       "      <td>178.317317</td>\n",
       "      <td>173.328080</td>\n",
       "      <td>113.840620</td>\n",
       "      <td>0</td>\n",
       "      <td>1.070715</td>\n",
       "      <td>0.444677</td>\n",
       "      <td>177.330647</td>\n",
       "      <td>107.147417</td>\n",
       "    </tr>\n",
       "  </tbody>\n",
       "</table>\n",
       "<p>1364 rows × 14 columns</p>\n",
       "</div>"
      ],
      "text/plain": [
       "      Unnamed: 0      Area  Circularity_j  Circularity_p  \\\n",
       "923          923  0.757163       0.295737       0.433680   \n",
       "924          924  0.487627       0.718569       0.936522   \n",
       "925          925  1.149815       0.169481       0.308105   \n",
       "926          926  1.063195       0.479265       0.627393   \n",
       "927          927  0.820480       0.223070       0.487690   \n",
       "...          ...       ...            ...            ...   \n",
       "5906        5906  1.358636       0.264711       0.389299   \n",
       "5907        5907  0.990792       0.538889       0.834848   \n",
       "5908        5908  1.195310       0.266206       0.361098   \n",
       "5909        5909  1.197478       0.179567       0.240692   \n",
       "5910        5910  1.057279       0.358974       0.431879   \n",
       "\n",
       "                            Experiment  NumSides  Orientation_j  \\\n",
       "923   MAX_20151002_control_35pcstretch         6       2.152998   \n",
       "924   MAX_20151002_control_35pcstretch         4     151.175924   \n",
       "925   MAX_20151002_control_35pcstretch         7       2.144992   \n",
       "926   MAX_20151002_control_35pcstretch         6      99.137178   \n",
       "927   MAX_20151002_control_35pcstretch         5     145.089835   \n",
       "...                                ...       ...            ...   \n",
       "5906     27March13_control_35pcstretch         6       9.687870   \n",
       "5907     27March13_control_35pcstretch         5      20.319775   \n",
       "5908     27March13_control_35pcstretch         6      20.209022   \n",
       "5909     27March13_control_35pcstretch         6      20.726451   \n",
       "5910     27March13_control_35pcstretch         6     178.317317   \n",
       "\n",
       "      Orientation_p   Perimeter  Time     pArea  pCircularity_p  \\\n",
       "923        4.463097  125.882251     0  0.735826        0.429346   \n",
       "924       62.935263   95.840620     0  0.359963        0.836948   \n",
       "925        2.103681  166.163096     0  1.112130        0.280042   \n",
       "926       98.145987  147.040678     0  1.059130        0.678030   \n",
       "927      150.179161  124.225397     0  0.624083        0.357131   \n",
       "...             ...         ...   ...       ...             ...   \n",
       "5906      11.010932  127.740115     0  1.272381        0.348086   \n",
       "5907      12.535412  105.012193     0  0.867599        0.643296   \n",
       "5908      15.493922  128.083261     0  1.221602        0.382357   \n",
       "5909      18.805587  137.885822     0  1.144708        0.268947   \n",
       "5910     173.328080  113.840620     0  1.070715        0.444677   \n",
       "\n",
       "      pOrientation_p  pPerimeter  \n",
       "923         4.909905  117.179068  \n",
       "924       129.189813   86.034652  \n",
       "925         3.129398  149.611404  \n",
       "926       105.137884  134.240041  \n",
       "927       147.966491  113.076946  \n",
       "...              ...         ...  \n",
       "5906       11.464973  120.256411  \n",
       "5907       23.357807   97.250595  \n",
       "5908       17.302196  118.992562  \n",
       "5909       20.195284  119.164502  \n",
       "5910      177.330647  107.147417  \n",
       "\n",
       "[1364 rows x 14 columns]"
      ]
     },
     "execution_count": 33,
     "metadata": {},
     "output_type": "execute_result"
    }
   ],
   "source": [
    "olddata"
   ]
  },
  {
   "cell_type": "code",
   "execution_count": 3,
   "metadata": {},
   "outputs": [],
   "source": [
    "new_files=glob('C:\\\\Users\\\\v35431nc\\\\Documents\\\\Lab_Stuff\\\\Iona_data\\\\*\\\\2023*8p6*\\\\*\\\\*\\\\*_cell_data_geometry.csv')"
   ]
  },
  {
   "cell_type": "code",
   "execution_count": 165,
   "metadata": {},
   "outputs": [
    {
     "data": {
      "text/plain": [
       "'20230803_2_IP_GFPCAAX-CHeHis_uf_8p6.lif'"
      ]
     },
     "execution_count": 165,
     "metadata": {},
     "output_type": "execute_result"
    }
   ],
   "source": [
    "new_files[0].split('\\\\')[6]"
   ]
  },
  {
   "cell_type": "code",
   "execution_count": 4,
   "metadata": {},
   "outputs": [],
   "source": [
    "newdatmeans=[]\n",
    "newdata=pd.read_csv(new_files[0])\n",
    "newdata['Exp']=new_files[0].split('\\\\')[6]\n",
    "newdatmeans.append(np.mean(newdata.circularity))\n",
    "for f in new_files[1:]:\n",
    "    dat=pd.read_csv(f)\n",
    "    dat['Exp']=f.split('\\\\')[6]\n",
    "    newdatmeans.append(np.mean(dat.circularity))\n",
    "   # sns.histplot(data=dat, x='circularity', element=\"step\")\n",
    "    #plt.show()\n",
    "    newdata=pd.concat([newdata, dat])"
   ]
  },
  {
   "cell_type": "code",
   "execution_count": 88,
   "metadata": {},
   "outputs": [
    {
     "data": {
      "text/plain": [
       "<matplotlib.collections.PathCollection at 0x24ea5cedb10>"
      ]
     },
     "execution_count": 88,
     "metadata": {},
     "output_type": "execute_result"
    },
    {
     "data": {
      "image/png": "[encoded data removed]",
      "text/plain": [
       "<Figure size 640x480 with 1 Axes>"
      ]
     },
     "metadata": {},
     "output_type": "display_data"
    }
   ],
   "source": [
    "plt.scatter(np.linspace(0, len(newdatmeans)-1, len(newdatmeans)), newdatmeans)"
   ]
  },
  {
   "cell_type": "code",
   "execution_count": 13,
   "metadata": {},
   "outputs": [
    {
     "data": {
      "text/plain": [
       "['C:\\\\Users\\\\v35431nc\\\\Documents\\\\Lab_Stuff\\\\Code\\\\tissue_image_analysis\\\\tissue_image_analysis\\\\Output\\\\20170628_1_EJ_GFPTub-CheHis_uf_8p6_MP_fr1\\\\2023-05-25_16-27-14\\\\Data\\\\20170628_1_fr1_cell_data_geometry.csv',\n",
       " 'C:\\\\Users\\\\v35431nc\\\\Documents\\\\Lab_Stuff\\\\Code\\\\tissue_image_analysis\\\\tissue_image_analysis\\\\Output\\\\20190606_1_EJ_GFPTub-CheHis_uf_8p6_MP_fr1\\\\2023-05-25_16-58-30\\\\Data\\\\20190606_1_fr1_cell_data_geometry.csv',\n",
       " 'C:\\\\Users\\\\v35431nc\\\\Documents\\\\Lab_Stuff\\\\Code\\\\tissue_image_analysis\\\\tissue_image_analysis\\\\Output\\\\20190613_1_EJ_GFPTub-CheHis_uf_8p6_MP_fr1\\\\2023-05-25_15-57-19\\\\Data\\\\20190613_1_fr1_cell_data_geometry.csv']"
      ]
     },
     "execution_count": 13,
     "metadata": {},
     "output_type": "execute_result"
    }
   ],
   "source": [
    "emma_files"
   ]
  },
  {
   "cell_type": "code",
   "execution_count": 14,
   "metadata": {},
   "outputs": [
    {
     "data": {
      "text/plain": [
       "['C:\\\\Users\\\\v35431nc\\\\Documents\\\\Lab_Stuff\\\\Iona_data\\\\20170628_1_GG_GFPTub-CheHis_uf_8p6.lif\\\\20170628_1_EJ_GFPTub-CheHis_uf_8p6_MP_cp_outlines\\\\2023-10-29_13-56-25\\\\Data\\\\20170628_1_cp_cell_data_geometry.csv',\n",
       " 'C:\\\\Users\\\\v35431nc\\\\Documents\\\\Lab_Stuff\\\\Iona_data\\\\20190606_1_GG_GFPTub-CheHis_uf_8p6.lif\\\\20190606_1_EJ_GFPTub-CheHis_uf_8p6_MP_cp_outlines\\\\2023-10-29_14-32-02\\\\Data\\\\20190606_1_cp_cell_data_geometry.csv',\n",
       " 'C:\\\\Users\\\\v35431nc\\\\Documents\\\\Lab_Stuff\\\\Iona_data\\\\20190613_1_GG_GFPTub-CheHis_uf_8p6.lif\\\\20190613_1_EJ_GFPTub-CheHis_uf_8p6_MP_cp_outlines\\\\2023-10-29_14-43-46\\\\Data\\\\20190613_1_cp_cell_data_geometry.csv']"
      ]
     },
     "execution_count": 14,
     "metadata": {},
     "output_type": "execute_result"
    }
   ],
   "source": [
    "med_files=glob('C:\\\\Users\\\\v35431nc\\\\Documents\\\\Lab_Stuff\\\\Iona_data\\\\*\\\\*8p6*\\\\*\\\\*\\\\*_cell_data_geometry.csv')[0:3]\n",
    "med_files"
   ]
  },
  {
   "cell_type": "code",
   "execution_count": 15,
   "metadata": {},
   "outputs": [],
   "source": [
    "meddata=pd.read_csv(med_files[0])\n",
    "for f in med_files[1:]:\n",
    "    dat=pd.read_csv(f)\n",
    "   # sns.histplot(data=dat, x='circularity', element=\"step\")\n",
    "    #plt.show()\n",
    "    meddata=pd.concat([meddata, dat])"
   ]
  },
  {
   "cell_type": "code",
   "execution_count": 7,
   "metadata": {},
   "outputs": [],
   "source": [
    "emma_files=glob('C:\\\\Users\\\\v35431nc\\\\Documents\\\\Lab_Stuff\\\\Code\\\\tissue_image_analysis\\\\tissue_image_analysis\\\\Output\\\\*EJ*_uf_8p6_MP_fr1\\\\*\\\\Data\\\\*_cell_data_geometry.csv')\n",
    "emmadata=pd.read_csv(emma_files[0])\n",
    "for f in emma_files[1:]:\n",
    "    dat=pd.read_csv(f)\n",
    "   # sns.histplot(data=dat, x='circularity', element=\"step\")\n",
    "    #plt.show()\n",
    "    emmadata=pd.concat([emmadata, dat])"
   ]
  },
  {
   "cell_type": "code",
   "execution_count": 9,
   "metadata": {},
   "outputs": [],
   "source": [
    "olddata.groupby('Experiment').describe().Circularity_j.to_csv('C:\\\\Users\\\\v35431nc\\\\Documents\\\\Lab_Stuff\\\\circularity_summary_stats_cellreports.csv')"
   ]
  },
  {
   "cell_type": "code",
   "execution_count": 10,
   "metadata": {},
   "outputs": [
    {
     "data": {
      "text/plain": [
       "<matplotlib.collections.PathCollection at 0x13a10223f40>"
      ]
     },
     "execution_count": 10,
     "metadata": {},
     "output_type": "execute_result"
    },
    {
     "data": {
      "image/png": "[encoded data removed]",
      "text/plain": [
       "<Figure size 640x480 with 1 Axes>"
      ]
     },
     "metadata": {},
     "output_type": "display_data"
    }
   ],
   "source": [
    "olddatmeans=np.array(olddata.groupby('Experiment').mean().Circularity_j)\n",
    "\n",
    "plt.scatter(np.linspace(0, len(newdatmeans)-1, len(newdatmeans)), sorted(newdatmeans))\n",
    "plt.scatter(np.linspace(0, len(olddatmeans)-1, len(olddatmeans)), sorted(olddatmeans))"
   ]
  },
  {
   "cell_type": "code",
   "execution_count": 11,
   "metadata": {},
   "outputs": [
    {
     "data": {
      "image/png": "[encoded data removed]",
      "text/plain": [
       "<Figure size 640x480 with 1 Axes>"
      ]
     },
     "metadata": {},
     "output_type": "display_data"
    }
   ],
   "source": [
    "sns.histplot(data=olddata, x='Circularity_j', element=\"step\", binrange=[0,1], bins=20, stat='probability', color=sns.husl_palette(3,l=.4)[0], alpha=0.4, label='Cell Reports Data (2013-2015)')\n",
    "#sns.histplot(data=meddata, x='circularity', element=\"step\", binrange=[0,1],bins=20, stat='probability', color=sns.husl_palette(3,l=.4)[1], alpha=0.4)\n",
    "sns.histplot(data=emmadata, x='circularity', element=\"step\", binrange=[0,1],bins=20, stat='probability', color=sns.husl_palette(3,l=.4)[1], alpha=0.4, label=\"Emma's thesis data (2017-2019)\")\n",
    "sns.histplot(data=newdata, x='circularity', element=\"step\", binrange=[0,1],bins=20, stat='probability', color=sns.husl_palette(3,l=.4)[2], alpha=0.4, label='2023 Experiments')\n",
    "\n",
    "plt.axvline(np.mean(olddata.Circularity_j), c=sns.husl_palette(3,l=.4)[0], linestyle='--')\n",
    "#plt.axvline(np.mean(meddata.circularity), c=sns.husl_palette(3,l=.4)[1], linestyle='--')\n",
    "plt.axvline(np.mean(emmadata.circularity), c=sns.husl_palette(3,l=.4)[1], linestyle='--')\n",
    "plt.axvline(np.mean(newdata.circularity), c=sns.husl_palette(3,l=.4)[2], linestyle='--')\n",
    "\n",
    "plt.ylabel(\"Normalised count\")\n",
    "plt.xlabel(\"Circularity\")\n",
    "plt.legend(bbox_to_anchor=(0, -.20, 1, 0.2), loc=\"lower left\",mode=\"expand\", borderaxespad=0, ncol=2)\n",
    "plt.title(\"Distribution of circularity of cells 2013-2023\")\n",
    "fig=plt.gcf()\n",
    "plt.savefig('C:\\\\Users\\\\v35431nc\\\\Documents\\\\Lab_Stuff\\\\circularity_comparison.png', dpi=300, bbox_inches='tight')\n",
    "\n"
   ]
  },
  {
   "cell_type": "code",
   "execution_count": 168,
   "metadata": {},
   "outputs": [],
   "source": [
    "#olddata.groupby('Experiment').describe().Circularity_j.to_csv('C:\\\\Users\\\\v35431nc\\\\Documents\\\\Lab_Stuff\\\\circularity_summary_stats_cellreports.csv')\n",
    "\n",
    "newdata.groupby('Exp').describe().circularity.to_csv('C:\\\\Users\\\\v35431nc\\\\Documents\\\\Lab_Stuff\\\\circularity_summary_stats_new_dat.csv')"
   ]
  },
  {
   "cell_type": "code",
   "execution_count": 135,
   "metadata": {},
   "outputs": [
    {
     "data": {
      "text/plain": [
       "0.5145808974991246"
      ]
     },
     "execution_count": 135,
     "metadata": {},
     "output_type": "execute_result"
    }
   ],
   "source": [
    "np.mean(newdata.circularity)"
   ]
  },
  {
   "cell_type": "code",
   "execution_count": 171,
   "metadata": {},
   "outputs": [
    {
     "data": {
      "text/plain": [
       "count    3073.000000\n",
       "mean        0.522542\n",
       "std         0.170035\n",
       "min         0.026785\n",
       "25%         0.398468\n",
       "50%         0.508952\n",
       "75%         0.646582\n",
       "max         0.988372\n",
       "Name: circularity, dtype: float64"
      ]
     },
     "execution_count": 171,
     "metadata": {},
     "output_type": "execute_result"
    }
   ],
   "source": [
    "meddata.circularity.describe()"
   ]
  },
  {
   "cell_type": "code",
   "execution_count": 12,
   "metadata": {},
   "outputs": [
    {
     "data": {
      "text/html": [
       "<div>\n",
       "<style scoped>\n",
       "    .dataframe tbody tr th:only-of-type {\n",
       "        vertical-align: middle;\n",
       "    }\n",
       "\n",
       "    .dataframe tbody tr th {\n",
       "        vertical-align: top;\n",
       "    }\n",
       "\n",
       "    .dataframe thead th {\n",
       "        text-align: right;\n",
       "    }\n",
       "</style>\n",
       "<table border=\"1\" class=\"dataframe\">\n",
       "  <thead>\n",
       "    <tr style=\"text-align: right;\">\n",
       "      <th></th>\n",
       "      <th>cell_id</th>\n",
       "      <th>cell_perimeter_microns</th>\n",
       "      <th>cell_area_microns</th>\n",
       "      <th>shape_parameter</th>\n",
       "      <th>circularity</th>\n",
       "      <th>cell_edge_count</th>\n",
       "      <th>major_shape_axis_alignment_rads</th>\n",
       "    </tr>\n",
       "  </thead>\n",
       "  <tbody>\n",
       "    <tr>\n",
       "      <th>0</th>\n",
       "      <td>0.0</td>\n",
       "      <td>37.949612</td>\n",
       "      <td>64.153671</td>\n",
       "      <td>4.738017</td>\n",
       "      <td>0.406253</td>\n",
       "      <td>3.0</td>\n",
       "      <td>3.097265</td>\n",
       "    </tr>\n",
       "    <tr>\n",
       "      <th>1</th>\n",
       "      <td>1.0</td>\n",
       "      <td>40.843517</td>\n",
       "      <td>79.046488</td>\n",
       "      <td>4.593903</td>\n",
       "      <td>0.665355</td>\n",
       "      <td>3.0</td>\n",
       "      <td>0.102698</td>\n",
       "    </tr>\n",
       "    <tr>\n",
       "      <th>2</th>\n",
       "      <td>2.0</td>\n",
       "      <td>37.305302</td>\n",
       "      <td>65.299273</td>\n",
       "      <td>4.616538</td>\n",
       "      <td>0.598345</td>\n",
       "      <td>3.0</td>\n",
       "      <td>2.962207</td>\n",
       "    </tr>\n",
       "    <tr>\n",
       "      <th>3</th>\n",
       "      <td>3.0</td>\n",
       "      <td>47.208778</td>\n",
       "      <td>108.832121</td>\n",
       "      <td>4.525267</td>\n",
       "      <td>0.304313</td>\n",
       "      <td>4.0</td>\n",
       "      <td>1.862007</td>\n",
       "    </tr>\n",
       "    <tr>\n",
       "      <th>4</th>\n",
       "      <td>4.0</td>\n",
       "      <td>65.937376</td>\n",
       "      <td>244.013071</td>\n",
       "      <td>4.221095</td>\n",
       "      <td>0.299982</td>\n",
       "      <td>4.0</td>\n",
       "      <td>3.055036</td>\n",
       "    </tr>\n",
       "    <tr>\n",
       "      <th>...</th>\n",
       "      <td>...</td>\n",
       "      <td>...</td>\n",
       "      <td>...</td>\n",
       "      <td>...</td>\n",
       "      <td>...</td>\n",
       "      <td>...</td>\n",
       "      <td>...</td>\n",
       "    </tr>\n",
       "    <tr>\n",
       "      <th>657</th>\n",
       "      <td>657.0</td>\n",
       "      <td>135.032345</td>\n",
       "      <td>1201.727223</td>\n",
       "      <td>3.895246</td>\n",
       "      <td>0.460663</td>\n",
       "      <td>9.0</td>\n",
       "      <td>0.239071</td>\n",
       "    </tr>\n",
       "    <tr>\n",
       "      <th>658</th>\n",
       "      <td>658.0</td>\n",
       "      <td>125.396232</td>\n",
       "      <td>1051.511320</td>\n",
       "      <td>3.867030</td>\n",
       "      <td>0.262441</td>\n",
       "      <td>9.0</td>\n",
       "      <td>2.976116</td>\n",
       "    </tr>\n",
       "    <tr>\n",
       "      <th>659</th>\n",
       "      <td>659.0</td>\n",
       "      <td>119.596399</td>\n",
       "      <td>1000.396186</td>\n",
       "      <td>3.781221</td>\n",
       "      <td>0.438939</td>\n",
       "      <td>9.0</td>\n",
       "      <td>0.251759</td>\n",
       "    </tr>\n",
       "    <tr>\n",
       "      <th>660</th>\n",
       "      <td>660.0</td>\n",
       "      <td>147.765799</td>\n",
       "      <td>1454.173393</td>\n",
       "      <td>3.874948</td>\n",
       "      <td>0.436713</td>\n",
       "      <td>9.0</td>\n",
       "      <td>1.112052</td>\n",
       "    </tr>\n",
       "    <tr>\n",
       "      <th>661</th>\n",
       "      <td>661.0</td>\n",
       "      <td>122.310342</td>\n",
       "      <td>1021.259506</td>\n",
       "      <td>3.827323</td>\n",
       "      <td>0.357138</td>\n",
       "      <td>9.0</td>\n",
       "      <td>2.995827</td>\n",
       "    </tr>\n",
       "  </tbody>\n",
       "</table>\n",
       "<p>3073 rows × 7 columns</p>\n",
       "</div>"
      ],
      "text/plain": [
       "     cell_id  cell_perimeter_microns  cell_area_microns  shape_parameter  \\\n",
       "0        0.0               37.949612          64.153671         4.738017   \n",
       "1        1.0               40.843517          79.046488         4.593903   \n",
       "2        2.0               37.305302          65.299273         4.616538   \n",
       "3        3.0               47.208778         108.832121         4.525267   \n",
       "4        4.0               65.937376         244.013071         4.221095   \n",
       "..       ...                     ...                ...              ...   \n",
       "657    657.0              135.032345        1201.727223         3.895246   \n",
       "658    658.0              125.396232        1051.511320         3.867030   \n",
       "659    659.0              119.596399        1000.396186         3.781221   \n",
       "660    660.0              147.765799        1454.173393         3.874948   \n",
       "661    661.0              122.310342        1021.259506         3.827323   \n",
       "\n",
       "     circularity  cell_edge_count  major_shape_axis_alignment_rads  \n",
       "0       0.406253              3.0                         3.097265  \n",
       "1       0.665355              3.0                         0.102698  \n",
       "2       0.598345              3.0                         2.962207  \n",
       "3       0.304313              4.0                         1.862007  \n",
       "4       0.299982              4.0                         3.055036  \n",
       "..           ...              ...                              ...  \n",
       "657     0.460663              9.0                         0.239071  \n",
       "658     0.262441              9.0                         2.976116  \n",
       "659     0.438939              9.0                         0.251759  \n",
       "660     0.436713              9.0                         1.112052  \n",
       "661     0.357138              9.0                         2.995827  \n",
       "\n",
       "[3073 rows x 7 columns]"
      ]
     },
     "execution_count": 12,
     "metadata": {},
     "output_type": "execute_result"
    }
   ],
   "source": [
    "meddata"
   ]
  },
  {
   "cell_type": "code",
   "execution_count": 20,
   "metadata": {},
   "outputs": [
    {
     "data": {
      "image/png": "[encoded data removed]",
      "text/plain": [
       "<Figure size 640x480 with 1 Axes>"
      ]
     },
     "metadata": {},
     "output_type": "display_data"
    }
   ],
   "source": [
    "sns.histplot(data=meddata, x='circularity', element=\"step\", binrange=[0,1],bins=20, stat='probability', color=sns.husl_palette(2,l=.4)[1], alpha=0.4,label=\"Emma(2017-2019), cellpose\")\n",
    "sns.histplot(data=emmadata, x='circularity', element=\"step\", binrange=[0,1],bins=20, stat='probability', color=sns.husl_palette(2,l=.4)[0], alpha=0.4, label=\"Emma(2017-2019), hand\")\n",
    "plt.axvline(np.mean(meddata.circularity), c=sns.husl_palette(2,l=.4)[1], linestyle='--')\n",
    "plt.axvline(np.mean(emmadata.circularity), c=sns.husl_palette(2,l=.4)[0], linestyle='--')\n",
    "\n",
    "plt.legend(bbox_to_anchor=(0, -.20, 1, 0.2), loc=\"lower left\",mode=\"expand\", borderaxespad=0, ncol=2)\n",
    "\n",
    "plt.savefig('C:\\\\Users\\\\v35431nc\\\\Documents\\\\Lab_Stuff\\\\circularity_comparison_hand_CP.png', dpi=300, bbox_inches='tight')"
   ]
  },
  {
   "cell_type": "code",
   "execution_count": 157,
   "metadata": {},
   "outputs": [],
   "source": [
    "pd.read_csv(emma_files[2]).describe().circularity.to_csv('C:\\\\Users\\\\v35431nc\\\\Documents\\\\Lab_Stuff\\\\circularity_Emma2.csv')"
   ]
  },
  {
   "cell_type": "code",
   "execution_count": 158,
   "metadata": {},
   "outputs": [
    {
     "data": {
      "text/plain": [
       "['C:\\\\Users\\\\v35431nc\\\\Documents\\\\Lab_Stuff\\\\Code\\\\tissue_image_analysis\\\\tissue_image_analysis\\\\Output\\\\20170628_1_EJ_GFPTub-CheHis_uf_8p6_MP_fr1\\\\2023-05-25_16-27-14\\\\Data\\\\20170628_1_fr1_cell_data_geometry.csv',\n",
       " 'C:\\\\Users\\\\v35431nc\\\\Documents\\\\Lab_Stuff\\\\Code\\\\tissue_image_analysis\\\\tissue_image_analysis\\\\Output\\\\20190606_1_EJ_GFPTub-CheHis_uf_8p6_MP_fr1\\\\2023-05-25_16-58-30\\\\Data\\\\20190606_1_fr1_cell_data_geometry.csv',\n",
       " 'C:\\\\Users\\\\v35431nc\\\\Documents\\\\Lab_Stuff\\\\Code\\\\tissue_image_analysis\\\\tissue_image_analysis\\\\Output\\\\20190613_1_EJ_GFPTub-CheHis_uf_8p6_MP_fr1\\\\2023-05-25_15-57-19\\\\Data\\\\20190613_1_fr1_cell_data_geometry.csv']"
      ]
     },
     "execution_count": 158,
     "metadata": {},
     "output_type": "execute_result"
    }
   ],
   "source": [
    "emma_files"
   ]
  },
  {
   "cell_type": "code",
   "execution_count": 19,
   "metadata": {},
   "outputs": [
    {
     "data": {
      "text/plain": [
       "TtestResult(statistic=6.4990579179105, pvalue=9.148751477241049e-11, df=3740.0)"
      ]
     },
     "execution_count": 19,
     "metadata": {},
     "output_type": "execute_result"
    }
   ],
   "source": [
    "ttest_ind(meddata.circularity, emmadata.circularity)"
   ]
  },
  {
   "cell_type": "code",
   "execution_count": 83,
   "metadata": {},
   "outputs": [
    {
     "data": {
      "text/plain": [
       "['C:\\\\Users\\\\v35431nc\\\\Documents\\\\Lab_Stuff\\\\Iona_data\\\\20230803_2_IP_GFPCAAX-CHeHis_uf_8p6.lif\\\\20230803_2_IP_GFPCAAX-CHeHis_m3c3_uf_8p6_MP_cp_outlines\\\\2023-10-31_11-51-29\\\\Data\\\\20230803_2_MP_cell_data_geometry.csv',\n",
       " 'C:\\\\Users\\\\v35431nc\\\\Documents\\\\Lab_Stuff\\\\Iona_data\\\\20230810_2_IP_GFPCAAX-CheHis_uf_8p6.lif\\\\20230810_2_IP_GFPCAAX-CheHis_m4c1_uf_8p6_MP_cp_outlines\\\\2023-10-31_11-58-46\\\\Data\\\\20230810_2_MP_cell_data_geometry.csv',\n",
       " 'C:\\\\Users\\\\v35431nc\\\\Documents\\\\Lab_Stuff\\\\Iona_data\\\\20230811_1_GFPCAAX-CheHis_uf_8p6.lif\\\\20230811_1_GFPCAAX-CheHis_m1c1_uf_8p6_MP_cp_outlines\\\\2023-10-31_17-22-30\\\\Data\\\\20230811_1_cp_cell_data_geometry.csv',\n",
       " 'C:\\\\Users\\\\v35431nc\\\\Documents\\\\Lab_Stuff\\\\Iona_data\\\\20230816_1_IP_GFPCAAX-CheHis_uf_8p6.lif\\\\20230816_1_IP_GFPCAAX-CheHis_m1c2_uf_8p6_MP_cp_outlines\\\\2023-10-31_17-39-42\\\\Data\\\\20230816_1_MP_cell_data_geometry.csv',\n",
       " 'C:\\\\Users\\\\v35431nc\\\\Documents\\\\Lab_Stuff\\\\Iona_data\\\\20230816_2_IP_GFPCAAX-CheHis_m3c1_uf_8p6_MP_cp_outlines\\\\20230816_2_IP_GFPCAAX-CheHis_m3c1_uf_8p6_MP_cp_outlines\\\\2023-10-31_18-24-08\\\\Data\\\\20230816_2_MP_cell_data_geometry.csv',\n",
       " 'C:\\\\Users\\\\v35431nc\\\\Documents\\\\Lab_Stuff\\\\Iona_data\\\\20230818_1_IP_GFPCAAX-CheHis_uf_8p6.lif\\\\20230818_1_IP_GFPCAAX-CheHis_m2c2_uf_8p6_MP_cp_outlines\\\\2023-11-01_12-20-07\\\\Data\\\\20230818_1_MP_cell_data_geometry.csv',\n",
       " 'C:\\\\Users\\\\v35431nc\\\\Documents\\\\Lab_Stuff\\\\Iona_data\\\\20230824_2_IP_GFPCAAX-CheHis_uf_8p6.lif\\\\20230824_2_IP_GFPCAAX-CheHis_m3c2_uf_8p6_MP_cp_outlines\\\\2023-11-01_12-36-04\\\\Data\\\\20230824_2_MP_cell_data_geometry.csv',\n",
       " 'C:\\\\Users\\\\v35431nc\\\\Documents\\\\Lab_Stuff\\\\Iona_data\\\\20230830_2_IP_GFPCAAX-CheHis_uf_8p6.lif\\\\20230830_2_IP_GFPCAAX-CheHis_m3c2_uf_8p6_MP_cp_outlines\\\\2023-11-01_12-46-28\\\\Data\\\\20230830_2_MP_cell_data_geometry.csv',\n",
       " 'C:\\\\Users\\\\v35431nc\\\\Documents\\\\Lab_Stuff\\\\Iona_data\\\\20230906_2_IP_GFPCAAX-CheHis_uf_8p6.lif\\\\20230906_2_IP_GFPCAAX-CheHis_m3c1_uf_8p6_MP_cp_outlines\\\\2023-11-01_12-57-13\\\\Data\\\\20230906_2_MP_cell_data_geometry.csv',\n",
       " 'C:\\\\Users\\\\v35431nc\\\\Documents\\\\Lab_Stuff\\\\Iona_data\\\\20230913_2_IP_GFPCAAX-CheHis_uf_8p6.lif\\\\20230913_2_IP_GFPCAAX-CheHis_m4c2_uf_8p6_MP_cp_outlines\\\\2023-11-01_13-05-14\\\\Data\\\\20230913_2_MP_cell_data_geometry.csv']"
      ]
     },
     "execution_count": 83,
     "metadata": {},
     "output_type": "execute_result"
    }
   ],
   "source": [
    "new_files"
   ]
  },
  {
   "cell_type": "code",
   "execution_count": null,
   "metadata": {},
   "outputs": [],
   "source": []
  }
 ],
 "metadata": {
  "kernelspec": {
   "display_name": "Python 3",
   "language": "python",
   "name": "python3"
  },
  "language_info": {
   "codemirror_mode": {
    "name": "ipython",
    "version": 3
   },
   "file_extension": ".py",
   "mimetype": "text/x-python",
   "name": "python",
   "nbconvert_exporter": "python",
   "pygments_lexer": "ipython3",
   "version": "3.10.9"
  }
 },
 "nbformat": 4,
 "nbformat_minor": 2
}
