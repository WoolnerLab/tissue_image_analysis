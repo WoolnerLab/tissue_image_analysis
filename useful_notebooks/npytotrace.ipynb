{
 "cells": [
  {
   "cell_type": "code",
   "execution_count": 1,
   "metadata": {},
   "outputs": [],
   "source": [
    "import matplotlib.pyplot as plt\n",
    "import matplotlib as mpl\n",
    "import pandas as pd\n",
    "import numpy as np\n",
    "import os\n",
    "from skimage.segmentation import find_boundaries\n",
    "\n",
    "from glob import glob"
   ]
  },
  {
   "cell_type": "code",
   "execution_count": 2,
   "metadata": {},
   "outputs": [],
   "source": [
    "folder='C:\\\\Users\\\\v35431nc\\\\Documents\\\\Lab_Stuff\\\\Movies_to_track\\\\Incremental\\\\20240320_2_IN_GFPCAAX-CheHis_us_8p6_SumP\\\\frames' #path to folder with npy files\n",
    "files=glob(folder+'/*.npy')"
   ]
  },
  {
   "cell_type": "code",
   "execution_count": 5,
   "metadata": {},
   "outputs": [],
   "source": [
    "for i in files:\n",
    "    name=i.split('\\\\')[-1].split('.')[-2]\n",
    "    dat=np.load(i, allow_pickle=True)\n",
    "    trace=find_boundaries(dat.item()['masks'])\n",
    "    import matplotlib.image\n",
    "    matplotlib.image.imsave(folder+'/'+name+'_trace.tif', trace, format='tiff', cmap='Greys_r')"
   ]
  }
 ],
 "metadata": {
  "kernelspec": {
   "display_name": "Python 3",
   "language": "python",
   "name": "python3"
  },
  "language_info": {
   "codemirror_mode": {
    "name": "ipython",
    "version": 3
   },
   "file_extension": ".py",
   "mimetype": "text/x-python",
   "name": "python",
   "nbconvert_exporter": "python",
   "pygments_lexer": "ipython3",
   "version": "3.10.9"
  },
  "orig_nbformat": 4
 },
 "nbformat": 4,
 "nbformat_minor": 2
}
