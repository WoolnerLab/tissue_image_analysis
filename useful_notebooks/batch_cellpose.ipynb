{
 "cells": [
  {
   "cell_type": "code",
   "execution_count": 2,
   "metadata": {},
   "outputs": [],
   "source": [
    "import numpy as np\n",
    "import matplotlib.pyplot as plt\n",
    "import matplotlib.image\n",
    "import os\n",
    "from cellpose import models\n",
    "from cellpose.io import imread, masks_flows_to_seg\n",
    "from glob import glob\n",
    "from skimage.segmentation import find_boundaries\n"
   ]
  },
  {
   "cell_type": "code",
   "execution_count": 4,
   "metadata": {},
   "outputs": [
    {
     "name": "stdout",
     "output_type": "stream",
     "text": [
      "C:\\Users/v35431nc/Documents/Lab_Stuff/Movies_to_track/Zero_stretch_frames\\20240412_2_IP_GFPCAAX-CheHis_us_0p0_SumP-1.tif\n",
      "C:\\Users/v35431nc/Documents/Lab_Stuff/Movies_to_track/Zero_stretch_frames\\20240417_1_IP_GFPCAAX-CheHis_us_0p0 (RGB)_SumP-1.tif\n",
      "C:\\Users/v35431nc/Documents/Lab_Stuff/Movies_to_track/Zero_stretch_frames\\20240419_2_IP_GFPCAAX-CheHis_us_0p0 (RGB)_SP-1.tif\n",
      "C:\\Users/v35431nc/Documents/Lab_Stuff/Movies_to_track/Zero_stretch_frames\\20240503_1_GFPCAAX-CheHis_uf_0p0_SP-1.tif\n",
      "C:\\Users/v35431nc/Documents/Lab_Stuff/Movies_to_track/Zero_stretch_frames\\20240503_2_GFPCAAX-CheHis_uc_0p0 (RGB)_SumP-1.tif\n",
      "C:\\Users/v35431nc/Documents/Lab_Stuff/Movies_to_track/Zero_stretch_frames\\20240510_1_IN_GFPCAAX-CheHis_uf_0p0 (RGB)_MaxP-1.tif\n",
      "C:\\Users/v35431nc/Documents/Lab_Stuff/Movies_to_track/Zero_stretch_frames\\20240510_1_IN_GFPCAAX-CheHis_uf_0p0 (RGB)_SumP-1.tif\n",
      "C:\\Users/v35431nc/Documents/Lab_Stuff/Movies_to_track/Zero_stretch_frames\\20240510_2_IN_GFPCAAX-CheHis_uf_0p0_SumP-1.tif\n",
      "C:\\Users/v35431nc/Documents/Lab_Stuff/Movies_to_track/Zero_stretch_frames\\20240712_1_IP_GFPCAAX-CheHis_uc_0p0_MP_fr001.tif\n"
     ]
    }
   ],
   "source": [
    "model=models.CellposeModel(pretrained_model='C:\\\\Users\\\\v35431nc\\\\Documents\\\\Lab_Stuff\\\\Cellpose models\\\\Membrane_only_v2') #this is the path to the cellpose model on your PC.\n",
    "#model=models.CellposeModel(pretrained_model='C:\\\\Users\\\\v35431nc\\\\Documents\\\\Lab_Stuff\\\\Cellpose models\\\\Universal_model_2') #this is the path to the cellpose model on your PC.\n",
    "\n",
    "folder=\"C:\\\\Users/v35431nc/Documents/Lab_Stuff/Movies_to_track/Zero_stretch_frames/\" #Folder to read images from\n",
    "if os.path.exists(folder+'cp_traces_v2/')==False: os.mkdir(folder+'cp_traces_v2/')\n",
    "files=glob(folder+\"*.tif\") #This selects any tif file's in the folder\n",
    "for f in files:\n",
    "    print(f)\n",
    "    name=f.split('\\\\')[-1].split('.')[0]\n",
    "    image=imread(f)\n",
    "    diam=41 #set diameter here\n",
    "    channels = [[2,0]]\n",
    "    #channels = [[0,0]]\n",
    "\n",
    "    masks, flows, styles = model.eval(image, diameter=diam, channels=channels)\n",
    "    #masks_flows_to_seg(image,masks, flows, diam,folder+\"cp_traces/\"+name) #saves .npy\n",
    "    trace=find_boundaries(masks)\n",
    "    matplotlib.image.imsave(folder+\"cp_traces_v2/\"+name+'_cp_trace.tif', trace, format='tiff', cmap='Greys_r') #saves trace image"
   ]
  },
  {
   "cell_type": "code",
   "execution_count": 3,
   "metadata": {},
   "outputs": [
    {
     "ename": "NameError",
     "evalue": "name 'all_cells' is not defined",
     "output_type": "error",
     "traceback": [
      "\u001b[1;31m---------------------------------------------------------------------------\u001b[0m",
      "\u001b[1;31mNameError\u001b[0m                                 Traceback (most recent call last)",
      "Cell \u001b[1;32mIn[3], line 1\u001b[0m\n\u001b[1;32m----> 1\u001b[0m \u001b[43mall_cells\u001b[49m[all_cells\u001b[38;5;241m.\u001b[39mstate\u001b[38;5;241m==\u001b[39m\u001b[38;5;124m'\u001b[39m\u001b[38;5;124mwill divide\u001b[39m\u001b[38;5;124m'\u001b[39m]\n",
      "\u001b[1;31mNameError\u001b[0m: name 'all_cells' is not defined"
     ]
    }
   ],
   "source": []
  },
  {
   "cell_type": "code",
   "execution_count": null,
   "metadata": {},
   "outputs": [],
   "source": []
  }
 ],
 "metadata": {
  "kernelspec": {
   "display_name": "Python 3",
   "language": "python",
   "name": "python3"
  },
  "language_info": {
   "codemirror_mode": {
    "name": "ipython",
    "version": 3
   },
   "file_extension": ".py",
   "mimetype": "text/x-python",
   "name": "python",
   "nbconvert_exporter": "python",
   "pygments_lexer": "ipython3",
   "version": "3.10.9"
  }
 },
 "nbformat": 4,
 "nbformat_minor": 2
}
